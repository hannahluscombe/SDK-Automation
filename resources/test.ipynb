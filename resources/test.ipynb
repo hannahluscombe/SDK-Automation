{
 "cells": [
  {
   "cell_type": "code",
   "execution_count": 1,
   "metadata": {},
   "outputs": [],
   "source": [
    "import yaml"
   ]
  },
  {
   "cell_type": "code",
   "execution_count": 3,
   "metadata": {},
   "outputs": [
    {
     "data": {
      "text/plain": [
       "['AnnualEmissions',\n",
       " 'AccumulatedNewCapacity',\n",
       " 'AnnualFixedOperatingCost',\n",
       " 'AnnualTechnologyEmission',\n",
       " 'AnnualTechnologyEmissionByMode',\n",
       " 'AnnualVariableOperatingCost',\n",
       " 'CapitalInvestment',\n",
       " 'Demand',\n",
       " 'DiscountedSalvageValue',\n",
       " 'DiscountedTechnologyEmissionsPenalty',\n",
       " 'NewCapacity',\n",
       " 'NewStorageCapacity',\n",
       " 'NumberOfNewTechnologyUnits',\n",
       " 'ProductionByTechnology',\n",
       " 'ProductionByTechnologyAnnual',\n",
       " 'RateOfActivity',\n",
       " 'RateOfProductionByTechnology',\n",
       " 'RateOfProductionByTechnologyByMode',\n",
       " 'RateOfUseByTechnology',\n",
       " 'RateOfUseByTechnologyByMode',\n",
       " 'SalvageValue',\n",
       " 'SalvageValueStorage',\n",
       " 'StorageLevelDayTypeFinish',\n",
       " 'StorageLevelDayTypeStart',\n",
       " 'StorageLevelSeasonStart',\n",
       " 'StorageLevelYearStart',\n",
       " 'StorageLevelYearFinish',\n",
       " 'TotalAnnualTechnologyActivityByMode',\n",
       " 'TotalCapacityAnnual',\n",
       " 'TotalDiscountedCost',\n",
       " 'TotalTechnologyAnnualActivity',\n",
       " 'TotalTechnologyModelPeriodActivity',\n",
       " 'Trade',\n",
       " 'UseByTechnology']"
      ]
     },
     "execution_count": 3,
     "metadata": {},
     "output_type": "execute_result"
    }
   ],
   "source": [
    "with open(\"otoole.yaml\") as f:\n",
    "    otoole = yaml.safe_load(f)\n",
    "    \n",
    "[x for x in otoole if otoole[x][\"type\"] == \"result\"]"
   ]
  }
 ],
 "metadata": {
  "kernelspec": {
   "display_name": "general",
   "language": "python",
   "name": "python3"
  },
  "language_info": {
   "codemirror_mode": {
    "name": "ipython",
    "version": 3
   },
   "file_extension": ".py",
   "mimetype": "text/x-python",
   "name": "python",
   "nbconvert_exporter": "python",
   "pygments_lexer": "ipython3",
   "version": "3.12.4"
  }
 },
 "nbformat": 4,
 "nbformat_minor": 2
}
